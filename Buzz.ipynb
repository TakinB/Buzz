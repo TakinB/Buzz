{
 "cells": [
  {
   "cell_type": "code",
   "execution_count": 365,
   "metadata": {},
   "outputs": [],
   "source": [
    "import os\n",
    "import spotipy\n",
    "from spotipy.oauth2 import SpotifyClientCredentials\n",
    "import spotipy.util as util\n",
    "\n",
    "#setting environment variables \n",
    "os.environ['SPOTIPY_CLIENT_ID'] = \"replace me\"\n",
    "os.environ['SPOTIPY_CLIENT_SECRET'] = \"replace me\"\n",
    "os.environ['SPOTIPY_REDIRECT_URI'] = \"http://localhost:8888/\"\n",
    "\n",
    "\n",
    "## getting API params from knobs and sliders\n",
    "danceability=1 #most danceable\n",
    "valance=1 #1 is most happy\n",
    "instrumentalness= 1 #most probable that there's no vocal\n",
    "popularity = 80\n",
    "\n",
    "\n",
    "## Authentication\n",
    "cid =\"replace me\" \n",
    "secret = \"replace me\"\n",
    "username = \"replace me\"\n",
    "\n",
    "client_credentials_manager = SpotifyClientCredentials(client_id=cid, client_secret=secret) \n",
    "sp = spotipy.Spotify(client_credentials_manager=client_credentials_manager)\n",
    "scope = 'user-library-read playlist-read-private user-read-playback-state user-modify-playback-state user-top-read'\n",
    "\n",
    "token = util.prompt_for_user_token(username, scope)\n",
    "#print(\"token is\")\n",
    "#print(token)\n",
    "\n",
    "if token:\n",
    "    sp = spotipy.Spotify(auth=token)\n",
    "else:\n",
    "    print(\"Can't get token for\", username)\n",
    "    "
   ]
  },
  {
   "cell_type": "code",
   "execution_count": 366,
   "metadata": {},
   "outputs": [],
   "source": [
    "def get_current_user_top_artists_uri():\n",
    "    tops = sp.current_user_top_tracks(limit=2)\n",
    "    #print(tops['items'][0])\n",
    "    return (tops['items'][0]['artists'][0]['uri'])\n",
    "    \n",
    "def get_current_user_top_track_genre():\n",
    "    tops = sp.current_user_top_tracks(limit=2)\n",
    "    artist_id = (tops['items'][0]['artists'][0]['id'])\n",
    "    return(sp.artist(artist_id)['genres'])\n",
    "\n",
    "def get_current_user_top_track_uri():\n",
    "    tops = sp.current_user_top_tracks(limit=2)\n",
    "    top_track_uri = (tops['items'][0]['uri'])\n",
    "    print(top_track_uri)\n",
    "    return top_track_uri\n",
    "\n",
    "def get_recommendations(popularity, seed_g, seed_track_uri):\n",
    "    albums = []\n",
    "    results = sp.recommendations(seed_genres= seed_g, seed_tracks = [seed_track_uri], min_danceability=0, max_loudness=0, target_popularity = popularity, limit=10)\n",
    "    #print(results)\n",
    "    for track in results['tracks']:\n",
    "        print (track['name'], '-', track['artists'][0]['name'])\n",
    "        #tr = track['album']['id']\n",
    "\n",
    "    return results['tracks'][0]['album']['id']\n",
    "\n",
    "def get_available_devices():\n",
    "    albums = []\n",
    "    results = sp.devices()\n",
    "    #print(results)\n",
    "    return results\n",
    "\n",
    "def find_RPi_Device_ID():\n",
    "    devices = get_available_devices()[\"devices\"]\n",
    "    \n",
    "    for dev in devices:\n",
    "        #print(dev[\"id\"])\n",
    "        if dev[\"name\"] == \"raspotify (raspberrypi)\":\n",
    "            #print(\"found it\")\n",
    "            RPi_id = dev[\"id\"]\n",
    "    return RPi_id\n",
    "    \n",
    "def transfer_on_raspberryPi(id):\n",
    "    sp.transfer_playback(id)\n",
    "\n",
    "def play_track_id(device_id, track_id):\n",
    "    track_url = \"spotify:album:\" + track_id\n",
    "    sp.start_playback(device_id, track_url)"
   ]
  },
  {
   "cell_type": "code",
   "execution_count": 367,
   "metadata": {},
   "outputs": [
    {
     "name": "stdout",
     "output_type": "stream",
     "text": [
      "spotify:track:2TEws3ZBMfsCZtuYL1k5KW\n",
      "Behet Ghol Midam - Mohsen Yeganeh\n",
      "To Ke Nisti Pisham - Masih\n",
      "Hesse Khoobie - Shadmehr Aghili\n",
      "Mano Negah Kon - Babak Jahanbakhsh\n",
      "Asheghaneh - Farzad Farzin\n",
      "Shabe Tire - Amir Tataloo\n",
      "Dooset Daram - Mohsen Yeganeh\n",
      "Goli - Masih\n",
      "Taghdir - Shadmehr Aghili\n",
      "Ey Vaaay - Babak Jahanbakhsh\n"
     ]
    }
   ],
   "source": [
    "# gets top track\n",
    "# from that , gets top artist\n",
    "# from that , gets top genre\n",
    "top_track_genre = get_current_user_top_track_genre()\n",
    "top_artists_uri = get_current_user_top_artists_uri()\n",
    "top_track_uri = get_current_user_top_track_uri()\n",
    "\n",
    "# top genre, and top track are passed for seeding recommendations\n",
    "track_id = get_recommendations(popularity, top_track_genre, top_track_uri)\n",
    "#print(track_id)\n",
    "\n",
    "# gets respberry pi device id and transfers playback to it\n",
    "RapberryPi_Device_Id = find_RPi_Device_ID()\n",
    "transfer_on_raspberryPi(RapberryPi_Device_Id)\n",
    "\n",
    "#plays the track\n",
    "play_track_id(RapberryPi_Device_Id, track_id)"
   ]
  },
  {
   "cell_type": "code",
   "execution_count": 362,
   "metadata": {},
   "outputs": [],
   "source": []
  },
  {
   "cell_type": "code",
   "execution_count": 363,
   "metadata": {},
   "outputs": [],
   "source": []
  },
  {
   "cell_type": "code",
   "execution_count": 364,
   "metadata": {},
   "outputs": [],
   "source": []
  },
  {
   "cell_type": "code",
   "execution_count": null,
   "metadata": {},
   "outputs": [],
   "source": []
  },
  {
   "cell_type": "code",
   "execution_count": null,
   "metadata": {},
   "outputs": [],
   "source": []
  },
  {
   "cell_type": "code",
   "execution_count": null,
   "metadata": {},
   "outputs": [],
   "source": []
  }
 ],
 "metadata": {
  "kernelspec": {
   "display_name": "Python 3",
   "language": "python",
   "name": "python3"
  },
  "language_info": {
   "codemirror_mode": {
    "name": "ipython",
    "version": 3
   },
   "file_extension": ".py",
   "mimetype": "text/x-python",
   "name": "python",
   "nbconvert_exporter": "python",
   "pygments_lexer": "ipython3",
   "version": "3.7.3"
  }
 },
 "nbformat": 4,
 "nbformat_minor": 2
}
